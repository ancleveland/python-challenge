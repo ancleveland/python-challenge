{
 "cells": [
  {
   "cell_type": "code",
   "execution_count": 2,
   "metadata": {},
   "outputs": [],
   "source": [
    "import os"
   ]
  },
  {
   "cell_type": "code",
   "execution_count": 3,
   "metadata": {},
   "outputs": [],
   "source": [
    "import csv"
   ]
  },
  {
   "cell_type": "code",
   "execution_count": 4,
   "metadata": {},
   "outputs": [],
   "source": [
    "budget_data_csv = os.path.join('Resources', 'budget_data.csv')"
   ]
  },
  {
   "cell_type": "code",
   "execution_count": 73,
   "metadata": {},
   "outputs": [],
   "source": [
    "#The total number of months included in the dataset\n",
    "\n",
    "# Lists to store data\n",
    "Total_Months = 0\n",
    "Total_Profits = 0\n",
    "Months = []\n",
    "change_list = []\n",
    "Net_Change = []\n",
    "Maximum_Increase_In_Profit = []\n",
    "Maximum_Decrease_In_Loss = []\n",
    "\n",
    "\n",
    "# with open(budget_data.csv, newline=\"\") as budgetfile:\n",
    "with open(budget_data_csv, newline=\"\") as budgetfile:\n",
    "    budgetreader = csv.reader(budgetfile, delimiter=\",\")\n",
    "  \n",
    "    header = next(budgetreader)\n",
    "    firstrow = next(budgetreader)\n",
    "    prev_net = int(firstrow[1])\n",
    "    change_list.append(list(zip(Months, Net_Change)))\n",
    "\n",
    "    for row in budgetreader:\n",
    "        \n",
    "        Total_Months = Total_Months + 1\n",
    "        Total_Profits = Total_Profits + int(row[1]) \n",
    "        Total_Change = float(row[1]) - prev_net \n",
    "        prev_net = int(row[1]) \n",
    "        Net_Change = Net_Change + [Total_Change]\n",
    "        Avg_NetChange = sum(Net_Change)/len(Net_Change) \n",
    "        MIP = max(Net_Change)\n",
    "        MDP = min(Net_Change)\n",
    "        Months.append(row[0])\n",
    "        \n",
    "       \n",
    "        \n",
    "\n",
    "               \n",
    "#             # Add total months\n",
    "#             Total_Months.append(row[0])\n",
    "\n",
    "#             # Add total profits\n",
    "#             Total_Profits.append(row[1])\n",
    "\n",
    "# #             # Add total losses\n",
    "#             Total_Losses.append(row[1])\n",
    "\n",
    "#             # Add average change in P&L\n",
    "#             Average_Change_inPandL.append(row[6])\n",
    "\n",
    "#              # Add maximum increase in P&L\n",
    "#             Maximum_Increase_In_Profit.append(row[7])\n",
    "\n",
    "#             # Add maximum decrese in in P&L\n",
    "#             Maximum_Decrease_In_Loss.append(row[8])"
   ]
  },
  {
   "cell_type": "code",
   "execution_count": 62,
   "metadata": {},
   "outputs": [],
   "source": []
  },
  {
   "cell_type": "code",
   "execution_count": 10,
   "metadata": {},
   "outputs": [
    {
     "data": {
      "text/plain": [
       "86"
      ]
     },
     "execution_count": 10,
     "metadata": {},
     "output_type": "execute_result"
    }
   ],
   "source": [
    "Total_Months"
   ]
  },
  {
   "cell_type": "code",
   "execution_count": 13,
   "metadata": {},
   "outputs": [
    {
     "data": {
      "text/plain": [
       "38382578"
      ]
     },
     "execution_count": 13,
     "metadata": {},
     "output_type": "execute_result"
    }
   ],
   "source": [
    "Total_Profits"
   ]
  },
  {
   "cell_type": "code",
   "execution_count": 17,
   "metadata": {},
   "outputs": [
    {
     "data": {
      "text/plain": [
       "671099"
      ]
     },
     "execution_count": 17,
     "metadata": {},
     "output_type": "execute_result"
    }
   ],
   "source": [
    "PreviousValue"
   ]
  },
  {
   "cell_type": "code",
   "execution_count": 27,
   "metadata": {},
   "outputs": [
    {
     "data": {
      "text/plain": [
       "-196785.0"
      ]
     },
     "execution_count": 27,
     "metadata": {},
     "output_type": "execute_result"
    }
   ],
   "source": [
    "Total_Change"
   ]
  },
  {
   "cell_type": "code",
   "execution_count": 33,
   "metadata": {},
   "outputs": [
    {
     "data": {
      "text/plain": [
       "-2315.1176470588234"
      ]
     },
     "execution_count": 33,
     "metadata": {},
     "output_type": "execute_result"
    }
   ],
   "source": [
    "Avg_NetChange"
   ]
  },
  {
   "cell_type": "code",
   "execution_count": 39,
   "metadata": {},
   "outputs": [
    {
     "data": {
      "text/plain": [
       "1926159.0"
      ]
     },
     "execution_count": 39,
     "metadata": {},
     "output_type": "execute_result"
    }
   ],
   "source": [
    "MIP "
   ]
  },
  {
   "cell_type": "code",
   "execution_count": 40,
   "metadata": {},
   "outputs": [
    {
     "data": {
      "text/plain": [
       "-2196167.0"
      ]
     },
     "execution_count": 40,
     "metadata": {},
     "output_type": "execute_result"
    }
   ],
   "source": [
    "MDP"
   ]
  },
  {
   "cell_type": "code",
   "execution_count": 54,
   "metadata": {},
   "outputs": [
    {
     "data": {
      "text/plain": [
       "['Feb-2010',\n",
       " 'Mar-2010',\n",
       " 'Apr-2010',\n",
       " 'May-2010',\n",
       " 'Jun-2010',\n",
       " 'Jul-2010',\n",
       " 'Aug-2010',\n",
       " 'Sep-2010',\n",
       " 'Oct-2010',\n",
       " 'Nov-2010',\n",
       " 'Dec-2010',\n",
       " 'Jan-2011',\n",
       " 'Feb-2011',\n",
       " 'Mar-2011',\n",
       " 'Apr-2011',\n",
       " 'May-2011',\n",
       " 'Jun-2011',\n",
       " 'Jul-2011',\n",
       " 'Aug-2011',\n",
       " 'Sep-2011',\n",
       " 'Oct-2011',\n",
       " 'Nov-2011',\n",
       " 'Dec-2011',\n",
       " 'Jan-2012',\n",
       " 'Feb-2012',\n",
       " 'Mar-2012',\n",
       " 'Apr-2012',\n",
       " 'May-2012',\n",
       " 'Jun-2012',\n",
       " 'Jul-2012',\n",
       " 'Aug-2012',\n",
       " 'Sep-2012',\n",
       " 'Oct-2012',\n",
       " 'Nov-2012',\n",
       " 'Dec-2012',\n",
       " 'Jan-2013',\n",
       " 'Feb-2013',\n",
       " 'Mar-2013',\n",
       " 'Apr-2013',\n",
       " 'May-2013',\n",
       " 'Jun-2013',\n",
       " 'Jul-2013',\n",
       " 'Aug-2013',\n",
       " 'Sep-2013',\n",
       " 'Oct-2013',\n",
       " 'Nov-2013',\n",
       " 'Dec-2013',\n",
       " 'Jan-2014',\n",
       " 'Feb-2014',\n",
       " 'Mar-2014',\n",
       " 'Apr-2014',\n",
       " 'May-2014',\n",
       " 'Jun-2014',\n",
       " 'Jul-2014',\n",
       " 'Aug-2014',\n",
       " 'Sep-2014',\n",
       " 'Oct-2014',\n",
       " 'Nov-2014',\n",
       " 'Dec-2014',\n",
       " 'Jan-2015',\n",
       " 'Feb-2015',\n",
       " 'Mar-2015',\n",
       " 'Apr-2015',\n",
       " 'May-2015',\n",
       " 'Jun-2015',\n",
       " 'Jul-2015',\n",
       " 'Aug-2015',\n",
       " 'Sep-2015',\n",
       " 'Oct-2015',\n",
       " 'Nov-2015',\n",
       " 'Dec-2015',\n",
       " 'Jan-2016',\n",
       " 'Feb-2016',\n",
       " 'Mar-2016',\n",
       " 'Apr-2016',\n",
       " 'May-2016',\n",
       " 'Jun-2016',\n",
       " 'Jul-2016',\n",
       " 'Aug-2016',\n",
       " 'Sep-2016',\n",
       " 'Oct-2016',\n",
       " 'Nov-2016',\n",
       " 'Dec-2016',\n",
       " 'Jan-2017',\n",
       " 'Feb-2017']"
      ]
     },
     "execution_count": 54,
     "metadata": {},
     "output_type": "execute_result"
    }
   ],
   "source": [
    "Months"
   ]
  },
  {
   "cell_type": "code",
   "execution_count": 46,
   "metadata": {},
   "outputs": [
    {
     "data": {
      "text/plain": [
       "('Apr-2010', -391430.0)"
      ]
     },
     "execution_count": 46,
     "metadata": {},
     "output_type": "execute_result"
    }
   ],
   "source": [
    "min(change_list)"
   ]
  },
  {
   "cell_type": "code",
   "execution_count": 75,
   "metadata": {},
   "outputs": [
    {
     "name": "stdout",
     "output_type": "stream",
     "text": [
      "[]\n"
     ]
    }
   ],
   "source": [
    "for x in change_list:\n",
    "    print(x)"
   ]
  }
 ],
 "metadata": {
  "kernelspec": {
   "display_name": "Python 3",
   "language": "python",
   "name": "python3"
  },
  "language_info": {
   "codemirror_mode": {
    "name": "ipython",
    "version": 3
   },
   "file_extension": ".py",
   "mimetype": "text/x-python",
   "name": "python",
   "nbconvert_exporter": "python",
   "pygments_lexer": "ipython3",
   "version": "3.7.3"
  }
 },
 "nbformat": 4,
 "nbformat_minor": 4
}
